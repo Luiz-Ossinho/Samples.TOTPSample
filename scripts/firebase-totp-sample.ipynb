{
 "cells": [
  {
   "cell_type": "markdown",
   "metadata": {
    "dotnet_interactive": {
     "language": "csharp"
    }
   },
   "source": [
    "# Requirements\n",
    "- A project must exist in [the Firebase Console](https://console.firebase.google.com/?_gl=1*rk62ap*_ga*NDcxNDU2ODM2LjE2OTUzNTg5NjE.*_ga_CW55HF8NVT*MTY5NTg3NDI1Ni44LjEuMTY5NTg3ODU0Ny42MC4wLjA).\n",
    "- The project needs to have Authentication turned on and configure, and the email and password provider must be enabled.\n",
    "- [Google Cloud CLI](https://cloud.google.com/sdk/docs/install?hl=pt-br) must be installed at least on the configuring machine."
   ]
  },
  {
   "cell_type": "markdown",
   "metadata": {
    "dotnet_interactive": {
     "language": "pwsh"
    }
   },
   "source": [
    "# Enabling MFA on a project level\n",
    "This only needs to run once, it can be run as a REST request or as method calls in Firebase Admin SDK"
   ]
  },
  {
   "cell_type": "code",
   "execution_count": null,
   "metadata": {
    "dotnet_interactive": {
     "language": "pwsh"
    }
   },
   "outputs": [],
   "source": [
    "$PROJECT_ID = \"⚠️Sensitive data⚠️\"\n",
    "$gcp = gcloud auth print-access-token\n",
    "$curlUrl = \"https://identitytoolkit.googleapis.com/admin/v2/projects/\"+$PROJECT_ID+\"/config?updateMask=mfa\"\n",
    "$curlAuthHeader = \"Authorization: Bearer \"+$gcp\n",
    "#adjacentIntervals: The number of time-window intervals, from zero to ten. The default is five.\n",
    "$curlBody = @\"\n",
    "{ \\\"mfa\\\": { \\\"providerConfigs\\\": [{  \\\"state\\\": \\\"ENABLED\\\",  \\\"totpProviderConfig\\\": {    \\\"adjacentIntervals\\\": \\\"5\\\"  }}] }}\n",
    "\"@\n",
    "\n",
    "curl -X PATCH $curlUrl -H  $curlAuthHeader -H \"Content-Type: application/json\" -H \"X-Goog-User-Project: \"+$PROJECT_ID -d $curlBody"
   ]
  },
  {
   "cell_type": "markdown",
   "metadata": {
    "dotnet_interactive": {
     "language": "pwsh"
    }
   },
   "source": [
    "# Registration\n",
    "After MFA is enabled at a project level, the user must be registred in firebase and have its email address verified before enrolling.\n",
    "This can be done through REST requests or Firebase Auth Javascript SDK. \n",
    "This sample focuses on C# and .NET applications, so it uses [an open source package](https://github.com/step-up-labs/firebase-authentication-dotnet) to simplify some flows, specifically user creation and login, but that also could be implemented on different ways."
   ]
  },
  {
   "cell_type": "code",
   "execution_count": null,
   "metadata": {
    "dotnet_interactive": {
     "language": "csharp"
    }
   },
   "outputs": [],
   "source": [
    "#r \"nuget: FirebaseAuthentication.net\"\n",
    "#r \"nuget: System.Net.Http.Json\"\n",
    "\n",
    "using System.Net.Http.Json;\n",
    "using Firebase.Auth;\n",
    "using Firebase.Auth.Providers;\n",
    "\n",
    "var config = new FirebaseAuthConfig\n",
    "{\n",
    "    ApiKey = \"⚠️Sensitive data⚠️\",\n",
    "    AuthDomain = \"⚠️Sensitive data⚠️\",\n",
    "    Providers = new FirebaseAuthProvider[]\n",
    "    {\n",
    "        new EmailProvider()\n",
    "    }\n",
    "};\n",
    "\n",
    "var client = new FirebaseAuthClient(config);"
   ]
  },
  {
   "cell_type": "markdown",
   "metadata": {},
   "source": [
    "Now that the package is configured, we will use it to create a new firebase user."
   ]
  },
  {
   "cell_type": "code",
   "execution_count": null,
   "metadata": {
    "dotnet_interactive": {
     "language": "csharp"
    }
   },
   "outputs": [],
   "source": [
    "UserCredential userCredential;\n",
    "var email = \"⚠️Sensitive data⚠️\";\n",
    "Console.WriteLine($\"Using email: {email}\");\n",
    "try\n",
    "{\n",
    "    var firebasePassword = \"⚠️Sensitive data⚠️\";\n",
    "    var displayName = \"Firebase TOTP Test User\";\n",
    "    userCredential = await client.CreateUserWithEmailAndPasswordAsync(email, firebasePassword, displayName);\n",
    "}\n",
    "catch (FirebaseAuthException ex)\n",
    "{\n",
    "    Console.WriteLine($\"Exception thrown: {ex.Reason}\");\n",
    "    throw;\n",
    "}\n",
    "\n",
    "Console.WriteLine($\"Logged in as: {userCredential.User.Uid} | {userCredential.User.Info.DisplayName} | {userCredential.User.Info.Email}\");"
   ]
  },
  {
   "cell_type": "markdown",
   "metadata": {},
   "source": [
    "Now for the email verification."
   ]
  },
  {
   "cell_type": "code",
   "execution_count": null,
   "metadata": {
    "dotnet_interactive": {
     "language": "csharp"
    }
   },
   "outputs": [],
   "source": [
    "var token = await userCredential.User.GetIdTokenAsync(true);\n",
    "\n",
    "var sendVerifyEmailRequest = new {\n",
    "    requestType = \"VERIFY_EMAIL\",\n",
    "    idToken = token\n",
    "};\n",
    "\n",
    "var sendVerifyEmailResponse = await config.HttpClient.PostAsJsonAsync($\"https://identitytoolkit.googleapis.com/v1/accounts:sendOobCode?key={config.ApiKey}\", sendVerifyEmailRequest);"
   ]
  },
  {
   "cell_type": "markdown",
   "metadata": {},
   "source": [
    "## ⚠️Please be sure to verify the email address before continuing.\n",
    "# Enrollment\n",
    "Using the user's credentials, we can start the MFA TOTP enrollment process.\n",
    "An QR Code needs to be show to the user and instructions should be made clear on how to use OTP apps. OTP code must also be avaiable because some plataforms dont support QR Code."
   ]
  },
  {
   "cell_type": "code",
   "execution_count": null,
   "metadata": {
    "dotnet_interactive": {
     "language": "csharp"
    }
   },
   "outputs": [],
   "source": [
    "public class TotpSessionInfoWrapper\n",
    "{\n",
    "    public Content TotpSessionInfo { get; set; }\n",
    "\n",
    "    public class Content\n",
    "    {\n",
    "        public string SharedSecretKey { get; set; }\n",
    "        public string HashingAlgorithm { get; set; }\n",
    "        public int VerificationCodeLength { get; set; }\n",
    "        public int PeriodSec { get; set; }\n",
    "        public string SessionInfo { get; set; }\n",
    "        public DateTime FinalizeEnrollmentTime { get; set; }\n",
    "    \n",
    "        public string GetQRCodeUrl(string accountName = default, string issuer = default)\n",
    "        {\n",
    "            return $\"otpauth://totp/{issuer}:{accountName}?secret={SharedSecretKey}&issuer={issuer}&algorithm={HashingAlgorithm}&digits={VerificationCodeLength}\";\n",
    "        }\n",
    "    }\n",
    "}\n",
    "\n",
    "var startEnrollmentRequest = new\n",
    "{\n",
    "    idToken = token,\n",
    "    totpEnrollmentInfo = new object()\n",
    "};\n",
    "\n",
    "var startEnrollmentResponse = await client.PostAsJsonAsync($\"https://identitytoolkit.googleapis.com/v2/accounts/mfaEnrollment:start?key={config.ApiKey}\", startEnrollmentRequest);\n",
    "var startEnrollmentResponseBody = await startEnrollmentResponse.Content.ReadFromJsonAsync<TotpSessionInfoWrapper>();\n",
    "\n",
    "var qrCode = startEnrollmentResponseBody.TotpSessionInfo.GetQRCodeUrl(userCredential.User.Info.Email, \"studies-totp\");\n",
    "Console.WriteLine(\"OTP key generated, show this as an QR code\");\n",
    "// https://www.qrcode-monkey.com/\n",
    "// TODO: Stop using other services and create an cli compatible QR Code generator.\n",
    "Console.WriteLine(qrCode);"
   ]
  },
  {
   "cell_type": "markdown",
   "metadata": {},
   "source": [
    "After scanning the QR Code on the OTP app, use the timed password generated to finalize MFA TOTP enrollment. You will recieve an email confirming this operation."
   ]
  },
  {
   "cell_type": "code",
   "execution_count": null,
   "metadata": {
    "dotnet_interactive": {
     "language": "csharp"
    }
   },
   "outputs": [],
   "source": [
    "var otp = \"⚠️Sensitive data⚠️\";\n",
    "// TODO: Read this from console somehow? jupyter notebook doesnt seem to support it.\n",
    "\n",
    "var finalizeEnrollmentRequest = new\n",
    "{\n",
    "    idToken = token,\n",
    "    displayName = \"⚠️Sensitive data⚠️\",\n",
    "    totpVerificationInfo = new { sessionInfo = startEnrollmentResponseBody.TotpSessionInfo.SessionInfo, VerificationCode = otp }\n",
    "};\n",
    "\n",
    "var finalizeEnrollmentResponse = await client.PostAsJsonAsync($\"https://identitytoolkit.googleapis.com/v2/accounts/mfaEnrollment:finalize?key={config.ApiKey}\", finalizeEnrollmentRequest);"
   ]
  }
 ],
 "metadata": {
  "kernelspec": {
   "display_name": ".NET (C#)",
   "language": "C#",
   "name": ".net-csharp"
  },
  "language_info": {
   "name": "C#"
  }
 },
 "nbformat": 4,
 "nbformat_minor": 2
}
